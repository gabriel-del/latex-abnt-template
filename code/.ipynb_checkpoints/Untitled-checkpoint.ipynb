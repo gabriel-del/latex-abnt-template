{
 "cells": [
  {
   "cell_type": "code",
   "execution_count": 3,
   "metadata": {
    "scrolled": true
   },
   "outputs": [
    {
     "name": "stdout",
     "output_type": "stream",
     "text": [
      "0.8874028472489419\n",
      "0.02092147209577922\n"
     ]
    }
   ],
   "source": [
    "import pandas as pd\n",
    "from sklearn.neighbors import KNeighborsClassifier\n",
    "from sklearn.linear_model import LogisticRegression\n",
    "from sklearn.model_selection import cross_val_score\n",
    "from sklearn.tree import DecisionTreeClassifier\n",
    "from sklearn.ensemble import RandomForestClassifier\n",
    "from sklearn.naive_bayes import GaussianNB\n",
    "from sklearn.neural_network import MLPClassifier\n",
    "from sklearn.svm import SVC\n",
    "import warnings\n",
    "warnings.filterwarnings('ignore')\n",
    "lista = []\n",
    "\n",
    "cancer = pd.read_csv('data.csv', index_col=0)\n",
    "\n",
    "diag = {'M':0, 'B':1}\n",
    "cancer.diagnosis = [diag[item] for item in cancer.diagnosis]\n",
    "X = cancer.as_matrix(cancer.columns[1:31])\n",
    "y = cancer.as_matrix(['diagnosis'])\n",
    "knn = KNeighborsClassifier(n_neighbors = 1, weights='uniform')\n",
    "scores = cross_val_score(knn, X, y, cv=5, scoring='accuracy')\n",
    "lista.append([scores.mean(),scores.std()])\n",
    "#print(scores.mean())\n",
    "#print(scores.std())\n",
    "# lista e lista[0][0]\n",
    "\n",
    "\n",
    "\n",
    "tree = DecisionTreeClassifier(max_depth=3, random_state=0)\n",
    "scores = cross_val_score(tree, X, y, cv=5, scoring='accuracy')\n",
    "lista.append([scores.mean(),scores.std()])\n",
    "\n",
    "forest = RandomForestClassifier(n_estimators=50, random_state=0)\n",
    "scores = cross_val_score(forest, X, y, cv=5, scoring='accuracy')\n",
    "\n",
    "svm = SVC(kernel='poly',degree=1)\n",
    "scores = cross_val_score(svm, X, y, cv=5, scoring='accuracy')\n",
    "\n",
    "gnb = GaussianNB()\n",
    "scores = cross_val_score(gnb, X, y, cv=5, scoring='accuracy')\n",
    "\n",
    "mlp = MLPClassifier(solver='adam', alpha=0.0001, hidden_layer_sizes=(10,20,40), random_state=42, learning_rate='constant', learning_rate_init=0.01, max_iter=100, activation='logistic', momentum=0.9, tol=0.0001)\n",
    "scores = cross_val_score(mlp, X, y, cv=5, scoring='accuracy')\n",
    "\n",
    "\n",
    "print(scores.mean())\n",
    "print(scores.std())\n",
    "\n",
    "\n",
    "df = pd.DataFrame(lista, columns = [\"Acurácia\",\"Variância\"])\n",
    "df.to_csv(r'teste.csv')\n",
    "\n"
   ]
  },
  {
   "cell_type": "code",
   "execution_count": null,
   "metadata": {},
   "outputs": [],
   "source": []
  },
  {
   "cell_type": "code",
   "execution_count": null,
   "metadata": {},
   "outputs": [],
   "source": []
  },
  {
   "cell_type": "code",
   "execution_count": null,
   "metadata": {},
   "outputs": [],
   "source": []
  }
 ],
 "metadata": {
  "kernelspec": {
   "display_name": "Python 3",
   "language": "python",
   "name": "python3"
  },
  "language_info": {
   "codemirror_mode": {
    "name": "ipython",
    "version": 3
   },
   "file_extension": ".py",
   "mimetype": "text/x-python",
   "name": "python",
   "nbconvert_exporter": "python",
   "pygments_lexer": "ipython3",
   "version": "3.7.4"
  }
 },
 "nbformat": 4,
 "nbformat_minor": 2
}
